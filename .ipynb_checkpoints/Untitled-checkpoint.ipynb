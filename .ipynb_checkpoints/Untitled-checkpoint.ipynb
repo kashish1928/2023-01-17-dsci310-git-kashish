{
 "cells": [
  {
   "cell_type": "code",
   "execution_count": 2,
   "id": "7fdd7501-a0a5-4ce0-b17f-46b1404b1224",
   "metadata": {},
   "outputs": [
    {
     "name": "stderr",
     "output_type": "stream",
     "text": [
      "── \u001b[1mAttaching packages\u001b[22m ─────────────────────────────────────────────────────────────────────────────────────────── tidymodels 1.0.0 ──\n",
      "\n",
      "\u001b[32m✔\u001b[39m \u001b[34mbroom       \u001b[39m 1.0.1      \u001b[32m✔\u001b[39m \u001b[34mrecipes     \u001b[39m 1.0.3 \n",
      "\u001b[32m✔\u001b[39m \u001b[34mdials       \u001b[39m 1.1.0      \u001b[32m✔\u001b[39m \u001b[34mrsample     \u001b[39m 1.1.1 \n",
      "\u001b[32m✔\u001b[39m \u001b[34mdplyr       \u001b[39m 1.0.10     \u001b[32m✔\u001b[39m \u001b[34mtibble      \u001b[39m 3.1.8 \n",
      "\u001b[32m✔\u001b[39m \u001b[34mggplot2     \u001b[39m 3.3.6      \u001b[32m✔\u001b[39m \u001b[34mtidyr       \u001b[39m 1.2.1 \n",
      "\u001b[32m✔\u001b[39m \u001b[34minfer       \u001b[39m 1.0.4      \u001b[32m✔\u001b[39m \u001b[34mtune        \u001b[39m 1.0.1 \n",
      "\u001b[32m✔\u001b[39m \u001b[34mmodeldata   \u001b[39m 1.0.1      \u001b[32m✔\u001b[39m \u001b[34mworkflows   \u001b[39m 1.1.2 \n",
      "\u001b[32m✔\u001b[39m \u001b[34mparsnip     \u001b[39m 1.0.3      \u001b[32m✔\u001b[39m \u001b[34mworkflowsets\u001b[39m 1.0.0 \n",
      "\u001b[32m✔\u001b[39m \u001b[34mpurrr       \u001b[39m 0.3.5      \u001b[32m✔\u001b[39m \u001b[34myardstick   \u001b[39m 1.1.0 \n",
      "\n",
      "── \u001b[1mConflicts\u001b[22m ────────────────────────────────────────────────────────────────────────────────────────────── tidymodels_conflicts() ──\n",
      "\u001b[31m✖\u001b[39m \u001b[34mpurrr\u001b[39m::\u001b[32mdiscard()\u001b[39m masks \u001b[34mscales\u001b[39m::discard()\n",
      "\u001b[31m✖\u001b[39m \u001b[34mdplyr\u001b[39m::\u001b[32mfilter()\u001b[39m  masks \u001b[34mstats\u001b[39m::filter()\n",
      "\u001b[31m✖\u001b[39m \u001b[34mdplyr\u001b[39m::\u001b[32mlag()\u001b[39m     masks \u001b[34mstats\u001b[39m::lag()\n",
      "\u001b[31m✖\u001b[39m \u001b[34mrecipes\u001b[39m::\u001b[32mstep()\u001b[39m  masks \u001b[34mstats\u001b[39m::step()\n",
      "\u001b[34m•\u001b[39m Learn how to get started at \u001b[32mhttps://www.tidymodels.org/start/\u001b[39m\n",
      "\n"
     ]
    }
   ],
   "source": [
    "library(tidymodels)"
   ]
  },
  {
   "cell_type": "code",
   "execution_count": null,
   "id": "6b21e033-b6ef-4b62-b28a-b04ed1f9beb2",
   "metadata": {},
   "outputs": [],
   "source": []
  }
 ],
 "metadata": {
  "kernelspec": {
   "display_name": "R",
   "language": "R",
   "name": "ir"
  },
  "language_info": {
   "codemirror_mode": "r",
   "file_extension": ".r",
   "mimetype": "text/x-r-source",
   "name": "R",
   "pygments_lexer": "r",
   "version": "4.2.2"
  }
 },
 "nbformat": 4,
 "nbformat_minor": 5
}
